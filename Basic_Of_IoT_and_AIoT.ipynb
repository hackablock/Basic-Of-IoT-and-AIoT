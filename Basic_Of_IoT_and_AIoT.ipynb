{
  "nbformat": 4,
  "nbformat_minor": 0,
  "metadata": {
    "colab": {
      "provenance": [],
      "mount_file_id": "1nB683Wk9J2e6sLsu2nIhZm3gz2cnoYZs",
      "authorship_tag": "ABX9TyNy9pZasOcHEuh1GnWpeC6s",
      "include_colab_link": true
    },
    "kernelspec": {
      "name": "python3",
      "display_name": "Python 3"
    },
    "language_info": {
      "name": "python"
    },
    "accelerator": "GPU",
    "gpuClass": "standard"
  },
  "cells": [
    {
      "cell_type": "markdown",
      "metadata": {
        "id": "view-in-github",
        "colab_type": "text"
      },
      "source": [
        "<a href=\"https://colab.research.google.com/github/hackablock/Basic-Of-IoT-and-AIoT/blob/main/Basic_Of_IoT_and_AIoT.ipynb\" target=\"_parent\"><img src=\"https://colab.research.google.com/assets/colab-badge.svg\" alt=\"Open In Colab\"/></a>"
      ]
    },
    {
      "cell_type": "code",
      "source": [
        "!apt install -y mosquitto"
      ],
      "metadata": {
        "colab": {
          "base_uri": "https://localhost:8080/"
        },
        "id": "Kvdl3dZYkiUa",
        "outputId": "b4ed55da-9acf-4674-e7ab-658e90917a1b"
      },
      "execution_count": 9,
      "outputs": [
        {
          "output_type": "stream",
          "name": "stdout",
          "text": [
            "Reading package lists... Done\n",
            "Building dependency tree       \n",
            "Reading state information... Done\n",
            "mosquitto is already the newest version (1.4.15-2ubuntu0.18.04.3).\n",
            "The following package was automatically installed and is no longer required:\n",
            "  libnvidia-common-460\n",
            "Use 'apt autoremove' to remove it.\n",
            "0 upgraded, 0 newly installed, 0 to remove and 4 not upgraded.\n"
          ]
        }
      ]
    },
    {
      "cell_type": "code",
      "source": [
        "!mosquitto -h"
      ],
      "metadata": {
        "colab": {
          "base_uri": "https://localhost:8080/"
        },
        "id": "SZ0VAruVklv4",
        "outputId": "fc04c0b8-e868-4660-b23b-e09177a4f882"
      },
      "execution_count": 17,
      "outputs": [
        {
          "output_type": "stream",
          "name": "stdout",
          "text": [
            "mosquitto version 1.4.15 (build date Tue, 18 Jun 2019 11:42:22 -0300)\n",
            "\n",
            "mosquitto is an MQTT v3.1.1/v3.1 broker.\n",
            "\n",
            "Usage: mosquitto [-c config_file] [-d] [-h] [-p port]\n",
            "\n",
            " -c : specify the broker config file.\n",
            " -d : put the broker into the background after starting.\n",
            " -h : display this help.\n",
            " -p : start the broker listening on the specified port.\n",
            "      Not recommended in conjunction with the -c option.\n",
            " -v : verbose mode - enable all logging types. This overrides\n",
            "      any logging options given in the config file.\n",
            "\n",
            "See http://mosquitto.org/ for more information.\n",
            "\n"
          ]
        }
      ]
    },
    {
      "cell_type": "code",
      "source": [
        "! apt install mosquitto-clients"
      ],
      "metadata": {
        "id": "f1SN23Vflk59",
        "outputId": "0e55e560-aee2-4deb-88df-91956db9bf2d",
        "colab": {
          "base_uri": "https://localhost:8080/"
        }
      },
      "execution_count": 23,
      "outputs": [
        {
          "output_type": "stream",
          "name": "stdout",
          "text": [
            "Reading package lists... Done\n",
            "Building dependency tree       \n",
            "Reading state information... Done\n",
            "The following package was automatically installed and is no longer required:\n",
            "  libnvidia-common-460\n",
            "Use 'apt autoremove' to remove it.\n",
            "The following additional packages will be installed:\n",
            "  libc-ares2 libmosquitto1\n",
            "The following NEW packages will be installed:\n",
            "  libc-ares2 libmosquitto1 mosquitto-clients\n",
            "0 upgraded, 3 newly installed, 0 to remove and 4 not upgraded.\n",
            "Need to get 102 kB of archives.\n",
            "After this operation, 346 kB of additional disk space will be used.\n",
            "Get:1 http://archive.ubuntu.com/ubuntu bionic-updates/main amd64 libc-ares2 amd64 1.14.0-1ubuntu0.1 [37.5 kB]\n",
            "Get:2 http://archive.ubuntu.com/ubuntu bionic-updates/universe amd64 libmosquitto1 amd64 1.4.15-2ubuntu0.18.04.3 [32.9 kB]\n",
            "Get:3 http://archive.ubuntu.com/ubuntu bionic-updates/universe amd64 mosquitto-clients amd64 1.4.15-2ubuntu0.18.04.3 [31.5 kB]\n",
            "Fetched 102 kB in 1s (80.4 kB/s)\n",
            "Selecting previously unselected package libc-ares2:amd64.\n",
            "(Reading database ... 123981 files and directories currently installed.)\n",
            "Preparing to unpack .../libc-ares2_1.14.0-1ubuntu0.1_amd64.deb ...\n",
            "Unpacking libc-ares2:amd64 (1.14.0-1ubuntu0.1) ...\n",
            "Selecting previously unselected package libmosquitto1:amd64.\n",
            "Preparing to unpack .../libmosquitto1_1.4.15-2ubuntu0.18.04.3_amd64.deb ...\n",
            "Unpacking libmosquitto1:amd64 (1.4.15-2ubuntu0.18.04.3) ...\n",
            "Selecting previously unselected package mosquitto-clients.\n",
            "Preparing to unpack .../mosquitto-clients_1.4.15-2ubuntu0.18.04.3_amd64.deb ...\n",
            "Unpacking mosquitto-clients (1.4.15-2ubuntu0.18.04.3) ...\n",
            "Setting up libc-ares2:amd64 (1.14.0-1ubuntu0.1) ...\n",
            "Setting up libmosquitto1:amd64 (1.4.15-2ubuntu0.18.04.3) ...\n",
            "Setting up mosquitto-clients (1.4.15-2ubuntu0.18.04.3) ...\n",
            "Processing triggers for man-db (2.8.3-2ubuntu0.1) ...\n",
            "Processing triggers for libc-bin (2.27-3ubuntu1.6) ...\n"
          ]
        }
      ]
    },
    {
      "cell_type": "code",
      "source": [
        "!which mosquitto_pub"
      ],
      "metadata": {
        "id": "-9G295fVmGTQ",
        "outputId": "ecc609f9-fd9e-40bb-f2db-410f56b51fed",
        "colab": {
          "base_uri": "https://localhost:8080/"
        }
      },
      "execution_count": 24,
      "outputs": [
        {
          "output_type": "stream",
          "name": "stdout",
          "text": [
            "/usr/bin/mosquitto_pub\n"
          ]
        }
      ]
    },
    {
      "cell_type": "code",
      "source": [
        "#!mosquitto_pub -h \"endpoint.tonakai-kun.com\" -t \"zoom/test\" -m \"Hi, Hunter_PAT\""
      ],
      "metadata": {
        "id": "4siCtPVbmJ_6"
      },
      "execution_count": 25,
      "outputs": []
    },
    {
      "cell_type": "code",
      "source": [],
      "metadata": {
        "id": "Kcq47gnKmsNn"
      },
      "execution_count": null,
      "outputs": []
    }
  ]
}